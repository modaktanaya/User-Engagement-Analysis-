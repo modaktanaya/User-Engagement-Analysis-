{
 "cells": [
  {
   "cell_type": "markdown",
   "id": "ac5dbb45",
   "metadata": {},
   "source": [
    "## Importing the relevant libraries"
   ]
  },
  {
   "cell_type": "code",
   "execution_count": null,
   "id": "d2d18cf8",
   "metadata": {
    "scrolled": true
   },
   "outputs": [],
   "source": [
    "import pandas as pd\n",
    "import matplotlib.pyplot as plt\n",
    "from sklearn.linear_model import LinearRegression\n",
    "from sklearn.model_selection import train_test_split\n",
    "import seaborn as sns\n",
    "\n",
    "# Apply seaborn styles to the plots\n",
    "sns.set()"
   ]
  },
  {
   "cell_type": "markdown",
   "id": "50023163",
   "metadata": {},
   "source": [
    "## Reading the CSV file"
   ]
  },
  {
   "cell_type": "code",
   "execution_count": null,
   "id": "0e434cae",
   "metadata": {
    "scrolled": true
   },
   "outputs": [],
   "source": [
    "raw_data = pd.read_csv('minutes_and_certificates.csv')\n",
    "\n",
    "# Create a copy of the raw data to avoid modifying the original DataFrame\n",
    "data = raw_data.copy()\n",
    "\n",
    "# Display the first few rows of the dataset\n",
    "data.head()"
   ]
  },
  {
   "cell_type": "markdown",
   "id": "3de2b81f",
   "metadata": {},
   "source": [
    "## Splitting the data into inputs and target"
   ]
  },
  {
   "cell_type": "code",
   "execution_count": null,
   "id": "76fdcf3f",
   "metadata": {
    "scrolled": true
   },
   "outputs": [],
   "source": [
    "# Define the target variable (dependent variable) and inputs (independent variable)\n",
    "target = data['certificates_issued']\n",
    "inputs = data['minutes_watched']"
   ]
  },
  {
   "cell_type": "markdown",
   "id": "203774f1",
   "metadata": {},
   "source": [
    "## Splitting the data into training and test sets"
   ]
  },
  {
   "cell_type": "code",
   "execution_count": null,
   "id": "5ffa5cff",
   "metadata": {
    "scrolled": true
   },
   "outputs": [],
   "source": [
    "# Split the dataset into training and test sets (80% training, 20% test)\n",
    "x_train, x_test, y_train, y_test = train_test_split(inputs, \n",
    "                                                    target, \n",
    "                                                    test_size=0.2, \n",
    "                                                    random_state=365)\n",
    "\n",
    "# Convert the data series into numpy arrays for compatibility with scikit-learn\n",
    "x_train = x_train.to_numpy() \n",
    "x_test = x_test.to_numpy() \n",
    "y_train = y_train.to_numpy() \n",
    "y_test = y_test.to_numpy() \n",
    "\n",
    "# Reshape the training data to fit the model (necessary for a single feature input)\n",
    "x_train = x_train.reshape(-1, 1)\n",
    "x_test = x_test.reshape(-1, 1)"
   ]
  },
  {
   "cell_type": "markdown",
   "id": "8d577a8c",
   "metadata": {},
   "source": [
    "## Creating the model and fitting it to the data"
   ]
  },
  {
   "cell_type": "code",
   "execution_count": null,
   "id": "2282413e",
   "metadata": {
    "scrolled": true
   },
   "outputs": [],
   "source": [
    "# Initialize the Linear Regression model\n",
    "reg = LinearRegression()\n",
    "\n",
    "# Train the model on the training data\n",
    "reg.fit(x_train,y_train)"
   ]
  },
  {
   "cell_type": "code",
   "execution_count": null,
   "id": "f7c37647",
   "metadata": {
    "scrolled": true
   },
   "outputs": [],
   "source": [
    "# Print the intercept and coefficient of the regression\n",
    "reg.intercept_, reg.coef_"
   ]
  },
  {
   "cell_type": "markdown",
   "id": "6adce308",
   "metadata": {},
   "source": [
    "## Calculating the R-squared value "
   ]
  },
  {
   "cell_type": "code",
   "execution_count": null,
   "id": "c4256aa0",
   "metadata": {},
   "outputs": [],
   "source": [
    "# Print the R-squared value of the regression\n",
    "reg.score(x_train, y_train)"
   ]
  },
  {
   "cell_type": "markdown",
   "id": "0e47ff70",
   "metadata": {},
   "source": [
    "## Making predictions"
   ]
  },
  {
   "cell_type": "code",
   "execution_count": null,
   "id": "dcb6ad56",
   "metadata": {
    "scrolled": true
   },
   "outputs": [],
   "source": [
    "# Make predictions on the test data\n",
    "y_hat_test = reg.predict(x_test)"
   ]
  },
  {
   "cell_type": "code",
   "execution_count": null,
   "id": "21d32fb8",
   "metadata": {
    "scrolled": true
   },
   "outputs": [],
   "source": [
    "# Predict the number of certificates issued for 1200 minutes watched\n",
    "reg.predict([[1200]])"
   ]
  },
  {
   "cell_type": "markdown",
   "id": "9144af7c",
   "metadata": {},
   "source": [
    "## Plotting the results"
   ]
  },
  {
   "cell_type": "code",
   "execution_count": null,
   "id": "fad0d028",
   "metadata": {
    "scrolled": false
   },
   "outputs": [],
   "source": [
    "# Plot the actual test values against the predicted values\n",
    "plt.scatter(y_test, y_hat_test)\n",
    "plt.xlabel('Targets (y_test)',size=18)\n",
    "plt.ylabel('Predictions (y_hat_test)',size=18)\n",
    "plt.show()"
   ]
  }
 ],
 "metadata": {
  "kernelspec": {
   "display_name": "Python 3 (ipykernel)",
   "language": "python",
   "name": "python3"
  },
  "language_info": {
   "codemirror_mode": {
    "name": "ipython",
    "version": 3
   },
   "file_extension": ".py",
   "mimetype": "text/x-python",
   "name": "python",
   "nbconvert_exporter": "python",
   "pygments_lexer": "ipython3",
   "version": "3.8.17"
  }
 },
 "nbformat": 4,
 "nbformat_minor": 5
}
